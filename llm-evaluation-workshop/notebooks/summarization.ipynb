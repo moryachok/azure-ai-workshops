{
 "cells": [
  {
   "cell_type": "markdown",
   "metadata": {},
   "source": [
    "Tasks\n",
    "- Summarization\n",
    "- PII reduction\n",
    "- Anonimization\n",
    "- Sentiment Analysis\n",
    "- Entity Extraction - brand name mentions\n",
    "\n",
    "How?\n",
    "- Use Different LLMs and produce results in jsonl format to be used for evaluation.\n",
    "- output filename - {modelname}-{task}.jsonl\n"
   ]
  },
  {
   "cell_type": "markdown",
   "metadata": {},
   "source": [
    "## Azure OpenAI"
   ]
  },
  {
   "cell_type": "code",
   "execution_count": 31,
   "metadata": {},
   "outputs": [
    {
     "data": {
      "application/vnd.jupyter.widget-view+json": {
       "model_id": "3120c6ce348f4a78a34781c86df5b747",
       "version_major": 2,
       "version_minor": 0
      },
      "text/plain": [
       "Dropdown(description='OpenAI model:', options=('gpt-4o-2024-11-20', 'gpt-4o-mini-2024-07-18', 'gpt-35-turbo-01…"
      ]
     },
     "metadata": {},
     "output_type": "display_data"
    }
   ],
   "source": [
    "import ipywidgets as widgets\n",
    "model_deployment_name = widgets.Dropdown(\n",
    "    options=[\"gpt-4o-2024-11-20\", \"gpt-4o-mini-2024-07-18\", \"gpt-35-turbo-0125\", \"gpt-4-turbo-2024-04-09\"],\n",
    "    value='gpt-4o-2024-11-20',  # Default selected model\n",
    "    description='OpenAI model:',\n",
    "    style={'description_width': 'initial'},  # Adjusts the description width\n",
    ")\n",
    "\n",
    "# Display the dropdown\n",
    "display(model_deployment_name)"
   ]
  },
  {
   "cell_type": "code",
   "execution_count": null,
   "metadata": {},
   "outputs": [],
   "source": [
    "import os\n",
    "from openai import AzureOpenAI\n",
    "from IPython.display import HTML, display, Markdown\n",
    "from dotenv import load_dotenv\n",
    "import json\n",
    "\n",
    "load_dotenv()\n",
    "\n",
    "client = AzureOpenAI(\n",
    "    azure_endpoint = os.getenv(\"AZURE_OPENAI_ENDPOINT\"), \n",
    "    api_key=os.getenv(\"AZURE_OPENAI_API_KEY\"), \n",
    "    api_version=\"2024-05-01-preview\"\n",
    ")\n",
    "\n",
    "def get_transcript_text_from_file(file_path):\n",
    "    try:\n",
    "        with open(file_path, \"r\") as file:\n",
    "            transcript = file.read()\n",
    "            return transcript\n",
    "    except FileNotFoundError:\n",
    "        print(f\"File not found: {file_path}\")\n",
    "    except Exception as e:\n",
    "        print(f\"An error occurred: {e}\")\n",
    "\n",
    "\n",
    "def print_usage_data(completion):\n",
    "    print(f\"model: {completion.model}\")\n",
    "    print(f\"input tokens: {completion.usage.prompt_tokens}\")\n",
    "    print(f\"output tokens: {completion.usage.completion_tokens}\")\n",
    "    print(f\"total tokens: {completion.usage.total_tokens}\")\n",
    "\n",
    "\n",
    "def append_to_file(file_path, text_to_append):\n",
    "    try:\n",
    "        with open(file_path, \"a\") as file:\n",
    "            file.write(text_to_append + \"\\n\")\n",
    "        print(f\"input appended successfully to: {file_path}\")\n",
    "    except Exception as e:\n",
    "        print(f\"An error occurred: {e}\")\n",
    "\n",
    "for file_path in [\"assets/flight-ticket-positive.txt\", \"assets/refund-negative.txt\", \"assets/visa-charges-neutral.txt\"]:\n",
    "    display(f\"### Starting Execution of: {file_path}\")\n",
    "    transcript = get_transcript_text_from_file(file_path)\n",
    "    instruction = \"You are a helpful assistant summarizing call transcripts. Your output should contain customer name, agent name, issue, and resolution and next steps if exists.\"\n",
    "    completion = client.chat.completions.create(\n",
    "        model=model_deployment_name.value,  #gpt-4o-mini-2024-07-18, gpt-35-turbo-0125, gpt-4-turbo-2024-04-09\n",
    "        max_tokens=800,\n",
    "        temperature=0.7,  \n",
    "        top_p=0.95, \n",
    "        messages=[\n",
    "            {\"role\": \"system\", \"content\": instruction},\n",
    "            {\"role\": \"user\", \"content\": transcript}\n",
    "        ],  \n",
    "    )\n",
    "\n",
    "    # print(completion.model_dump_json(indent=2))\n",
    "    print(\"Usage Data:\")\n",
    "    print_usage_data(completion)\n",
    "\n",
    "    print(\"Response:\")\n",
    "    display(HTML(f\"<pre style='white-space: pre-wrap;'>{completion.choices[0].message.content}</pre>\"))\n",
    "    print(\"\\n\\n\")\n",
    "\n",
    "    evaluation_input = {\n",
    "        \"query\": transcript,\n",
    "        \"context\": instruction,\n",
    "        \"response\": completion.choices[0].message.content  \n",
    "    }\n",
    "\n",
    "    print(json.dumps(evaluation_input))\n",
    "    append_to_file(f\"evaluations/summarization.{completion.model}.jsonl\", json.dumps(evaluation_input))\n",
    "\n"
   ]
  },
  {
   "cell_type": "markdown",
   "metadata": {},
   "source": [
    "## Inference API"
   ]
  },
  {
   "cell_type": "code",
   "execution_count": 32,
   "metadata": {},
   "outputs": [
    {
     "data": {
      "application/vnd.jupyter.widget-view+json": {
       "model_id": "8b6a279e61d24633b967adac167a7146",
       "version_major": 2,
       "version_minor": 0
      },
      "text/plain": [
       "Dropdown(description='OpenSource model:', options=('Phi-3-medium-128k-instruct', 'Phi-3-mini-128k-instruct', '…"
      ]
     },
     "metadata": {},
     "output_type": "display_data"
    }
   ],
   "source": [
    "import ipywidgets as widgets\n",
    "model_deployment_name = widgets.Dropdown(\n",
    "    options=[\"Phi-3-medium-128k-instruct\", \"Phi-3-mini-128k-instruct\", \"Phi-3-small-128k-instruct\"],\n",
    "    value='Phi-3-medium-128k-instruct',  # Default selected model\n",
    "    description='OpenSource model:',\n",
    "    style={'description_width': 'initial'},  # Adjusts the description width\n",
    ")\n",
    "\n",
    "# Display the dropdown\n",
    "display(model_deployment_name)"
   ]
  },
  {
   "cell_type": "code",
   "execution_count": 38,
   "metadata": {},
   "outputs": [
    {
     "data": {
      "text/plain": [
       "'### Starting Execution of: assets/flight-ticket-positive.txt'"
      ]
     },
     "metadata": {},
     "output_type": "display_data"
    },
    {
     "name": "stdout",
     "output_type": "stream",
     "text": [
      "Usage Data:\n",
      "model: phi3-medium-128k\n",
      "input tokens: 1074\n",
      "output tokens: 205\n",
      "total tokens: 1279\n",
      "Response:\n"
     ]
    },
    {
     "data": {
      "text/html": [
       "<pre style='white-space: pre-wrap;'> The customer, Michael Roberts, wishes to book a round-trip flight from Chicago to Miami for the upcoming weekend. He plans to fly out on Saturday morning and return on Sunday evening. Michael prefers a window seat and will only have a carry-on bag. He also opts for travel insurance at an additional cost of $15.\n",
       "\n",
       "The agent, Jessica, presents Michael with a flight option departing at 7:00 AM on Saturday and returning at 7:30 PM on Sunday. Michael agrees to these times.\n",
       "\n",
       "The total cost for the round-trip ticket, including travel insurance, is $325. Michael confirms his payment method as a Visa card and provides the necessary details.\n",
       "\n",
       "Jessica processes the payment, confirms the booking, and informs Michael that he will receive his e-ticket shortly. The conversation ends with Michael expressing his gratitude and well wishes for Jessica.</pre>"
      ],
      "text/plain": [
       "<IPython.core.display.HTML object>"
      ]
     },
     "metadata": {},
     "output_type": "display_data"
    },
    {
     "name": "stdout",
     "output_type": "stream",
     "text": [
      "{\"query\": \"[Michael Roberts] - 14:32\\nHi there! I\\u2019m looking to buy a flight ticket to Miami for this weekend. Can you help me out?\\n\\n[Agent-Jessica] - 14:32\\nHi, Michael! Absolutely, I\\u2019d love to help you with that. Let\\u2019s get started. What day are you planning to fly out?\\n\\n[Michael Roberts] - 14:33\\nI\\u2019m thinking Saturday morning, and I\\u2019ll come back Sunday evening.\\n\\n[Agent-Jessica] - 14:33\\nPerfect, a quick weekend getaway! Let me check some options for you. Where will you be flying from?\\n\\n[Michael Roberts] - 14:34\\nI\\u2019ll be flying out of Chicago.\\n\\n[Agent-Jessica] - 14:34\\nGot it. Give me just a second to pull up the flights for you.\\n\\n[Michael Roberts] - 14:35\\nSure, take your time.\\n\\n[Agent-Jessica] - 14:36\\nAlright, Michael, here\\u2019s what I found. There\\u2019s a 7:00 AM direct flight to Miami on Saturday, and for the return, there\\u2019s a 7:30 PM direct flight on Sunday. Does that work for you?\\n\\n[Michael Roberts] - 14:36\\nYeah, those times sound perfect!\\n\\n[Agent-Jessica] - 14:37\\nGreat! Do you have a seating preference\\u2014window, aisle, or middle?\\n\\n[Michael Roberts] - 14:37\\nWindow, please.\\n\\n[Agent-Jessica] - 14:37\\nWindow seat, noted. Now, for baggage\\u2014are you traveling light, or do you need checked bags?\\n\\n[Michael Roberts] - 14:38\\nJust a carry-on.\\n\\n[Agent-Jessica] - 14:38\\nGot it! And would you like to add travel insurance for an extra $15?\\n\\n[Michael Roberts] - 14:39\\nHmm, sure, why not.\\n\\n[Agent-Jessica] - 14:39\\nAwesome! So here\\u2019s the breakdown: your round-trip ticket with a carry-on and travel insurance comes to $325. Shall I go ahead and book it?\\n\\n[Michael Roberts] - 14:40\\nYeah, let\\u2019s do it!\\n\\n[Agent-Jessica] - 14:40\\nAlright! Can I confirm your name as it appears on your ID?\\n\\n[Michael Roberts] - 14:41\\nYeah, it\\u2019s Michael Roberts.\\n\\n[Agent-Jessica] - 14:41\\nPerfect. And can you provide an email address for your e-ticket?\\n\\n[Michael Roberts] - 14:42\\nSure, it\\u2019s michael.roberts@gmail.com.\\n\\n[Agent-Jessica] - 14:42\\nGot it. Last step\\u2014would you like to pay with a card or use travel points?\\n\\n[Michael Roberts] - 14:43\\nI\\u2019ll use my card.\\n\\n[Agent-Jessica] - 14:43\\nAlright, please provide the card details whenever you\\u2019re ready.\\n\\n[Michael Roberts] - 14:44\\nIt\\u2019s a Visa, number 4111-1111-1111-1111, expiry 12/25, and the CVV is 123.\\n\\n[Agent-Jessica] - 14:44\\nThank you! Processing your payment now\\u2026\\n\\n[Michael Roberts] - 14:45\\nOkay, great.\\n\\n[Agent-Jessica] - 14:46\\nAll done! You\\u2019re all set for your trip to Miami. You\\u2019ll receive your e-ticket in the next 5 minutes. Anything else I can help you with?\\n\\n[Michael Roberts] - 14:46\\nNope, that\\u2019s it. Thanks so much, Jessica!\\n\\n[Agent-Jessica] - 14:46\\nYou\\u2019re welcome, Michael! Have an amazing trip!\\n\\n[Michael Roberts] - 14:47\\nThanks! Have a great day.\\n\\n[Agent-Jessica] - 14:47\\nYou too! Goodbye!\", \"context\": \"You are a helpful assistant summarizing call transcripts. Your output should contain customer name, agent name, issue, and resolution and next steps if exists.\", \"response\": \" The customer, Michael Roberts, wishes to book a round-trip flight from Chicago to Miami for the upcoming weekend. He plans to fly out on Saturday morning and return on Sunday evening. Michael prefers a window seat and will only have a carry-on bag. He also opts for travel insurance at an additional cost of $15.\\n\\nThe agent, Jessica, presents Michael with a flight option departing at 7:00 AM on Saturday and returning at 7:30 PM on Sunday. Michael agrees to these times.\\n\\nThe total cost for the round-trip ticket, including travel insurance, is $325. Michael confirms his payment method as a Visa card and provides the necessary details.\\n\\nJessica processes the payment, confirms the booking, and informs Michael that he will receive his e-ticket shortly. The conversation ends with Michael expressing his gratitude and well wishes for Jessica.\"}\n",
      "input appended successfully to: evaluations/summarization.phi3-medium-128k.jsonl\n"
     ]
    },
    {
     "data": {
      "text/plain": [
       "'### Starting Execution of: assets/refund-negative.txt'"
      ]
     },
     "metadata": {},
     "output_type": "display_data"
    },
    {
     "name": "stdout",
     "output_type": "stream",
     "text": [
      "Usage Data:\n",
      "model: phi3-medium-128k\n",
      "input tokens: 967\n",
      "output tokens: 129\n",
      "total tokens: 1096\n",
      "Response:\n"
     ]
    },
    {
     "data": {
      "text/html": [
       "<pre style='white-space: pre-wrap;'> Rebecca Johnson experienced a delay in receiving a refund for a broken TV during her residential move. Despite the refund being approved over three weeks ago, the payment was still pending. After expressing her frustration, Agent-Mark escalated the case to his supervisor and contacted the finance team to resolve the issue. The payment was scheduled for processing, and Agent-Mark promised to personally monitor the case and ensure the refund is processed within 3-5 business days. Rebecca was provided with a direct line to contact Agent-Mark and was assured that her case would be prioritized.</pre>"
      ],
      "text/plain": [
       "<IPython.core.display.HTML object>"
      ]
     },
     "metadata": {},
     "output_type": "display_data"
    },
    {
     "name": "stdout",
     "output_type": "stream",
     "text": [
      "{\"query\": \"[Rebecca Johnson] - 15:02\\nHi, this is Rebecca Johnson. I\\u2019m calling for the third time about the refund for the broken TV during my residential move. It\\u2019s been over three weeks now, and I still haven\\u2019t received any updates.\\n\\n[Agent-Mark] - 15:02\\nGood afternoon, Rebecca. I\\u2019m sorry to hear about this ongoing issue. Let me pull up your case file and see what\\u2019s going on. Can you provide your case ID or booking reference?\\n\\n[Rebecca Johnson] - 15:03\\nIt\\u2019s 589472.\\n\\n[Agent-Mark] - 15:03\\nThank you. One moment while I review your case.\\n\\n[Rebecca Johnson] - 15:04\\nSure, but honestly, I don\\u2019t have all day.\\n\\n[Agent-Mark] - 15:05\\nI completely understand your frustration, and I appreciate your patience. I see here that the refund was approved on December 15th. However, it looks like the payment is still pending.\\n\\n[Rebecca Johnson] - 15:05\\nStill pending? That\\u2019s exactly what I was told last week! Why hasn\\u2019t it been processed yet?\\n\\n[Agent-Mark] - 15:06\\nYou\\u2019re right, Rebecca. This should have been resolved by now. Let me check with the finance team to understand the delay.\\n\\n[Rebecca Johnson] - 15:06\\nPlease do, because this is getting ridiculous.\\n\\n[Agent-Mark] - 15:07\\nOf course. I\\u2019ve just sent an urgent message to the finance team. While we wait for a response, I\\u2019ll escalate this case to my supervisor to ensure it\\u2019s prioritized.\\n\\n[Rebecca Johnson] - 15:08\\nYou should\\u2019ve done that the first time I called.\\n\\n[Agent-Mark] - 15:08\\nYou\\u2019re absolutely right, and I sincerely apologize for the inconvenience caused. Let me make this right for you now.\\n\\n[Rebecca Johnson] - 15:09\\nI hope so.\\n\\n[Agent-Mark] - 15:10\\nRebecca, I\\u2019ve just received confirmation from the finance team. The payment is scheduled for processing today, and it should reflect in your account within 3-5 business days.\\n\\n[Rebecca Johnson] - 15:10\\nAnd what guarantee do I have that this will actually happen?\\n\\n[Agent-Mark] - 15:11\\nI completely understand your concern. I\\u2019ll personally monitor your case and ensure the payment goes through. I\\u2019ll also send you an email with a summary of today\\u2019s update.\\n\\n[Rebecca Johnson] - 15:11\\nYou\\u2019d better. Can I get a direct line or someone I can contact if this isn\\u2019t resolved?\\n\\n[Agent-Mark] - 15:12\\nYes, absolutely. You can reach me directly at 1-800-555-1234, extension 456.\\n\\n[Rebecca Johnson] - 15:12\\nAlright. I\\u2019m holding you accountable for this.\\n\\n[Agent-Mark] - 15:13\\nI understand, Rebecca. Again, I\\u2019m very sorry for the trouble this has caused you. Is there anything else I can assist you with while we\\u2019re on the call?\\n\\n[Rebecca Johnson] - 15:13\\nNo, just make sure the refund happens.\\n\\n[Agent-Mark] - 15:14\\nUnderstood. Thank you for your time, and I\\u2019ll follow up with you personally to confirm the refund is processed. Have a good day.\\n\\n[Rebecca Johnson] - 15:14\\nWe\\u2019ll see. Goodbye.\\n\\n[Agent-Mark] - 15:14\\nGoodbye, Rebecca.\", \"context\": \"You are a helpful assistant summarizing call transcripts. Your output should contain customer name, agent name, issue, and resolution and next steps if exists.\", \"response\": \" Rebecca Johnson experienced a delay in receiving a refund for a broken TV during her residential move. Despite the refund being approved over three weeks ago, the payment was still pending. After expressing her frustration, Agent-Mark escalated the case to his supervisor and contacted the finance team to resolve the issue. The payment was scheduled for processing, and Agent-Mark promised to personally monitor the case and ensure the refund is processed within 3-5 business days. Rebecca was provided with a direct line to contact Agent-Mark and was assured that her case would be prioritized.\"}\n",
      "input appended successfully to: evaluations/summarization.phi3-medium-128k.jsonl\n"
     ]
    },
    {
     "data": {
      "text/plain": [
       "'### Starting Execution of: assets/visa-charges-neutral.txt'"
      ]
     },
     "metadata": {},
     "output_type": "display_data"
    },
    {
     "name": "stdout",
     "output_type": "stream",
     "text": [
      "Usage Data:\n",
      "model: phi3-medium-128k\n",
      "input tokens: 1139\n",
      "output tokens: 198\n",
      "total tokens: 1337\n",
      "Response:\n"
     ]
    },
    {
     "data": {
      "text/html": [
       "<pre style='white-space: pre-wrap;'> In this conversation, John Doe contacts customer service regarding unusual charges on his credit card. He is assisted by an agent named Sarah who verifies his identity and reviews the transactions in question.\n",
       "\n",
       "Upon confirming that the charges are indeed unauthorized and originated from a location where John was not present, Sarah flags the transactions as potentially fraudulent. She then proceeds to block John's current card and issue a replacement card, which will be delivered within 3-5 business days. Sarah also files a dispute for the disputed charges, which typically takes 7-10 business days for resolution.\n",
       "\n",
       "Additionally, Sarah offers to send John a summary of his recent transactions for the last week via email, so he can review all his charges and ensure everything else is in order. John appreciates the help and does not have any further concerns at the moment. He thanks Sarah for her assistance before they both say goodbye.</pre>"
      ],
      "text/plain": [
       "<IPython.core.display.HTML object>"
      ]
     },
     "metadata": {},
     "output_type": "display_data"
    },
    {
     "name": "stdout",
     "output_type": "stream",
     "text": [
      "{\"query\": \"[John Doe] - 10:01\\nHi, I noticed some unusual charges on my credit card, and I\\u2019d like to get more information about them.\\n\\n[Agent-Sarah] - 10:01\\nGood morning, John. My name is Sarah, and I\\u2019ll assist you with that. Can you please provide the last four digits of your credit card for verification?\\n\\n[John Doe] - 10:02\\nSure, it\\u2019s 4578.\\n\\n[Agent-Sarah] - 10:02\\nThank you, John. Can you also confirm your billing address and the email address linked to your account?\\n\\n[John Doe] - 10:03\\nThe billing address is 123 Main Street, Springfield, and the email is john.doe@example.com.\\n\\n[Agent-Sarah] - 10:03\\nPerfect, thank you. Let me quickly pull up your account details. One moment, please.\\n\\n[John Doe] - 10:04\\nSure, take your time.\\n\\n[Agent-Sarah] - 10:05\\nAlright, I\\u2019ve accessed your account. Can you tell me which charges seem unusual to you?\\n\\n[John Doe] - 10:06\\nThere are two charges from a vendor I don\\u2019t recognize, both from yesterday. One is for $127.99, and the other is for $46.50.\\n\\n[Agent-Sarah] - 10:06\\nThank you for pointing that out. Let me check these transactions for you. Were you in New York yesterday, by any chance?\\n\\n[John Doe] - 10:07\\nNo, I wasn\\u2019t. I\\u2019ve been in Springfield all week.\\n\\n[Agent-Sarah] - 10:07\\nGot it. It seems these charges originated from a store in New York City. Are you sure you didn\\u2019t authorize anyone else to use your card?\\n\\n[John Doe] - 10:08\\nYes, I\\u2019m certain.\\n\\n[Agent-Sarah] - 10:08\\nUnderstood. I\\u2019ll go ahead and flag these transactions as potentially unauthorized. Next, we\\u2019ll need to block this card and issue you a new one. Does that sound okay?\\n\\n[John Doe] - 10:09\\nYes, that\\u2019s fine.\\n\\n[Agent-Sarah] - 10:09\\nGreat. Before we proceed, I\\u2019ll also file a dispute for these charges. This usually takes about 7-10 business days for resolution. You\\u2019ll be notified once the investigation is complete.\\n\\n[John Doe] - 10:10\\nAlright, thank you.\\n\\n[Agent-Sarah] - 10:10\\nYou\\u2019re welcome. Now, let\\u2019s get your card blocked. I\\u2019ll expedite the process and issue a replacement card, which should reach you within 3-5 business days. Does that work?\\n\\n[John Doe] - 10:11\\nYes, that works.\\n\\n[Agent-Sarah] - 10:11\\nPerfect. The new card will be sent to the billing address you confirmed earlier. Is there anything else you\\u2019d like me to check?\\n\\n[John Doe] - 10:12\\nActually, can you let me know if there were any other suspicious charges?\\n\\n[Agent-Sarah] - 10:12\\nSure, let me take a closer look at your recent transactions.\\n\\n[John Doe] - 10:13\\nThanks.\\n\\n[Agent-Sarah] - 10:14\\nI\\u2019ve reviewed everything, and those are the only two charges that appear suspicious. All other transactions seem to align with your typical spending patterns.\\n\\n[John Doe] - 10:14\\nOkay, that\\u2019s good to know.\\n\\n[Agent-Sarah] - 10:15\\nI\\u2019ll also send you a transaction summary for the last week via email, so you can review it yourself.\\n\\n[John Doe] - 10:15\\nThat would be great, thank you.\\n\\n[Agent-Sarah] - 10:15\\nYou\\u2019re welcome. Is there anything else I can help you with today?\\n\\n[John Doe] - 10:16\\nNo, that should be it. Thanks again for your help.\\n\\n[Agent-Sarah] - 10:16\\nMy pleasure, John. Have a great day!\\n\\n[John Doe] - 10:16\\nYou too. Goodbye.\\n\\n[Agent-Sarah] - 10:16\\nGoodbye!\", \"context\": \"You are a helpful assistant summarizing call transcripts. Your output should contain customer name, agent name, issue, and resolution and next steps if exists.\", \"response\": \" In this conversation, John Doe contacts customer service regarding unusual charges on his credit card. He is assisted by an agent named Sarah who verifies his identity and reviews the transactions in question.\\n\\nUpon confirming that the charges are indeed unauthorized and originated from a location where John was not present, Sarah flags the transactions as potentially fraudulent. She then proceeds to block John's current card and issue a replacement card, which will be delivered within 3-5 business days. Sarah also files a dispute for the disputed charges, which typically takes 7-10 business days for resolution.\\n\\nAdditionally, Sarah offers to send John a summary of his recent transactions for the last week via email, so he can review all his charges and ensure everything else is in order. John appreciates the help and does not have any further concerns at the moment. He thanks Sarah for her assistance before they both say goodbye.\"}\n",
      "input appended successfully to: evaluations/summarization.phi3-medium-128k.jsonl\n"
     ]
    }
   ],
   "source": [
    "import os\n",
    "from azure.ai.inference import ChatCompletionsClient\n",
    "from azure.core.credentials import AzureKeyCredential\n",
    "from azure.ai.inference.models import SystemMessage, UserMessage\n",
    "from dotenv import load_dotenv\n",
    "\n",
    "load_dotenv()\n",
    "\n",
    "model = ChatCompletionsClient(\n",
    "    endpoint=os.environ[\"AZUREAI_ENDPOINT_URL\"],\n",
    "    credential=AzureKeyCredential(os.environ[\"AZUREAI_ENDPOINT_KEY\"]),\n",
    "    model=model_deployment_name.value\n",
    ")\n",
    "\n",
    "for file_path in [\"assets/flight-ticket-positive.txt\", \"assets/refund-negative.txt\", \"assets/visa-charges-neutral.txt\"]:\n",
    "    display(f\"### Starting Execution of: {file_path}\")\n",
    "    transcript = get_transcript_text_from_file(file_path) # flight-ticket-positive, refund-negative, visa-charges-neutral\n",
    "    instruction = \"You are a helpful assistant summarizing call transcripts. Your output should contain customer name, agent name, issue, and resolution and next steps if exists.\"\n",
    "\n",
    "    completion = model.complete(\n",
    "        messages=[\n",
    "            SystemMessage(content=instruction),\n",
    "            UserMessage(content=transcript),\n",
    "        ],\n",
    "        model_extras={\n",
    "            \"safe_mode\": True\n",
    "        }\n",
    "    )\n",
    "\n",
    "    #print(completion)\n",
    "    print(\"Usage Data:\")\n",
    "    print_usage_data(completion)\n",
    "\n",
    "    print(\"Response:\")\n",
    "    display(HTML(f\"<pre style='white-space: pre-wrap;'>{completion.choices[0].message.content}</pre>\"))\n",
    "\n",
    "    evaluation_input = {\n",
    "        \"query\": transcript,\n",
    "        \"context\": instruction,\n",
    "        \"response\": completion.choices[0].message.content  \n",
    "    }\n",
    "    print(json.dumps(evaluation_input))\n",
    "\n",
    "    append_to_file(f\"evaluations/summarization.{completion.model}.jsonl\", json.dumps(evaluation_input))\n",
    "\n",
    "\n",
    "\n"
   ]
  }
 ],
 "metadata": {
  "kernelspec": {
   "display_name": ".venv",
   "language": "python",
   "name": "python3"
  },
  "language_info": {
   "codemirror_mode": {
    "name": "ipython",
    "version": 3
   },
   "file_extension": ".py",
   "mimetype": "text/x-python",
   "name": "python",
   "nbconvert_exporter": "python",
   "pygments_lexer": "ipython3",
   "version": "3.12.7"
  }
 },
 "nbformat": 4,
 "nbformat_minor": 2
}
