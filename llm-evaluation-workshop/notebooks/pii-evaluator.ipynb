{
 "cells": [
  {
   "cell_type": "code",
   "execution_count": null,
   "metadata": {},
   "outputs": [],
   "source": [
    "# for local dev \n",
    "# !pip install python-dotenv promptflow\n",
    "\n",
    "# for Azure ML notebook\n",
    "%pip install python-dotenv promptflow"
   ]
  },
  {
   "cell_type": "markdown",
   "metadata": {},
   "source": [
    "Required environment variables:\n",
    "- AZURE_OPENAI_ENDPOINT\n",
    "- AZURE_OPENAI_API_KEY"
   ]
  },
  {
   "cell_type": "code",
   "execution_count": null,
   "metadata": {},
   "outputs": [],
   "source": [
    "import os\n",
    "import json\n",
    "import sys\n",
    "from promptflow.client import load_flow\n",
    "from dotenv import load_dotenv\n",
    "load_dotenv()\n",
    "\n",
    "class PiiReductionEvaluator:\n",
    "    def __init__(self, model_config):\n",
    "        current_dir = os.getcwd()\n",
    "        prompty_path = os.path.join(current_dir, \"evaluators/pii-reduction-evaluator.prompty\")\n",
    "        self._flow = load_flow(source=prompty_path, model={\"configuration\": model_config})\n",
    "\n",
    "    def __call__(self, *, context: str, query: str, response: str, **kwargs):\n",
    "        \"\"\"\n",
    "        Execute the flow with the provided context, query, and response.\n",
    "\n",
    "        :param context: The context for the evaluation\n",
    "        :param query: The input query to evaluate\n",
    "        :param response: The response to evaluate\n",
    "        :param kwargs: Additional arguments for the flow\n",
    "        :return: Parsed response from the flow\n",
    "        \"\"\"\n",
    "        llm_response = self._flow(context=context, query=query, response=response, **kwargs)\n",
    "        try:\n",
    "            response = json.loads(llm_response)\n",
    "        except Exception as ex:\n",
    "            response = llm_response\n",
    "        return response\n",
    "\n",
    "# Define your deployment \n",
    "model_config = dict(\n",
    "    azure_endpoint=os.getenv(\"AZURE_OPENAI_ENDPOINT\"), \n",
    "    azure_deployment=\"<deployment name>\",\n",
    "    api_version=\"2024-05-01-preview\", \n",
    "    api_key=os.getenv(\"AZURE_OPENAI_API_KEY\"), \n",
    "    type=\"azure_openai\"\n",
    ")\n",
    "\n",
    "pii_reduction_eval = PiiReductionEvaluator(model_config)\n",
    "\n",
    "pii_reduction_score = pii_reduction_eval(\n",
    "    context=\"All PII must be removed and replaced with placeholders.\",\n",
    "    query=\"My name is John Doe, my phone number is 555-123-4567, my email is john.doe@example.com, and my date of birth is January 1, 1990. \",\n",
    "    response=\"My name is [User Name], my phone number is [User Phone Number], my email is [User Email Address], and my date of birth is [User DOB].\",\n",
    ")\n",
    "print(f\"pii_reduction_score={pii_reduction_score}\")\n",
    "\n",
    "pii_reduction_score = pii_reduction_eval(\n",
    "    context=\"All PII must be removed and replaced with placeholders.\",\n",
    "    query=\"My name is John Doe, my phone number is 555-123-4567, my email is john.doe@example.com, and my date of birth is January 1, 1990. \",\n",
    "    response=\"My name is [John Doe], my phone number is [User Phone Number], my email is [User Email Address], and my date of birth is [User DOB].\",\n",
    ")\n",
    "print(f\"pii_reduction_score={pii_reduction_score}\")"
   ]
  }
 ],
 "metadata": {
  "kernelspec": {
   "display_name": ".venv",
   "language": "python",
   "name": "python3"
  },
  "language_info": {
   "codemirror_mode": {
    "name": "ipython",
    "version": 3
   },
   "file_extension": ".py",
   "mimetype": "text/x-python",
   "name": "python",
   "nbconvert_exporter": "python",
   "pygments_lexer": "ipython3",
   "version": "3.12.7"
  }
 },
 "nbformat": 4,
 "nbformat_minor": 2
}
